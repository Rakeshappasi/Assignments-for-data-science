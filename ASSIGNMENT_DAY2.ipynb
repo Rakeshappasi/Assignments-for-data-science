{
  "nbformat": 4,
  "nbformat_minor": 0,
  "metadata": {
    "colab": {
      "name": "ASSIGNMENT DAY2.ipynb",
      "provenance": [],
      "authorship_tag": "ABX9TyMNZsEKjbnWZzoPbuHdJBQ3",
      "include_colab_link": true
    },
    "kernelspec": {
      "name": "python3",
      "display_name": "Python 3"
    },
    "language_info": {
      "name": "python"
    }
  },
  "cells": [
    {
      "cell_type": "markdown",
      "metadata": {
        "id": "view-in-github",
        "colab_type": "text"
      },
      "source": [
        "<a href=\"https://colab.research.google.com/github/Rakeshappasi/Assignments-for-data-science/blob/main/ASSIGNMENT_DAY2.ipynb\" target=\"_parent\"><img src=\"https://colab.research.google.com/assets/colab-badge.svg\" alt=\"Open In Colab\"/></a>"
      ]
    },
    {
      "cell_type": "code",
      "metadata": {
        "id": "JWX68VoDaIyx"
      },
      "source": [
        "#assignment\n",
        "#create data frames with 10 rows on random numbers and 4 columns\n",
        "\n",
        "import numpy as np\n",
        "import matplotlib.pyplot as plt\n",
        "import pandas as pd\n",
        "import seaborn as sns\n",
        "%matplotlib inline"
      ],
      "execution_count": 1,
      "outputs": []
    },
    {
      "cell_type": "code",
      "metadata": {
        "id": "VYf7UoFhaMu_"
      },
      "source": [
        "from numpy.random import randint, randn , uniform , sample"
      ],
      "execution_count": 2,
      "outputs": []
    },
    {
      "cell_type": "code",
      "metadata": {
        "colab": {
          "base_uri": "https://localhost:8080/",
          "height": 343
        },
        "id": "88_1zO-GaQh8",
        "outputId": "476b4d27-8469-4030-adcb-f0273944502a"
      },
      "source": [
        "\n",
        "\n",
        "df = pd.DataFrame(randn(10,4),columns=['a','b','c','d'])\n",
        "df"
      ],
      "execution_count": 3,
      "outputs": [
        {
          "output_type": "execute_result",
          "data": {
            "text/html": [
              "<div>\n",
              "<style scoped>\n",
              "    .dataframe tbody tr th:only-of-type {\n",
              "        vertical-align: middle;\n",
              "    }\n",
              "\n",
              "    .dataframe tbody tr th {\n",
              "        vertical-align: top;\n",
              "    }\n",
              "\n",
              "    .dataframe thead th {\n",
              "        text-align: right;\n",
              "    }\n",
              "</style>\n",
              "<table border=\"1\" class=\"dataframe\">\n",
              "  <thead>\n",
              "    <tr style=\"text-align: right;\">\n",
              "      <th></th>\n",
              "      <th>a</th>\n",
              "      <th>b</th>\n",
              "      <th>c</th>\n",
              "      <th>d</th>\n",
              "    </tr>\n",
              "  </thead>\n",
              "  <tbody>\n",
              "    <tr>\n",
              "      <th>0</th>\n",
              "      <td>-0.293457</td>\n",
              "      <td>1.800594</td>\n",
              "      <td>-0.927340</td>\n",
              "      <td>-0.585166</td>\n",
              "    </tr>\n",
              "    <tr>\n",
              "      <th>1</th>\n",
              "      <td>0.132905</td>\n",
              "      <td>0.392413</td>\n",
              "      <td>0.698662</td>\n",
              "      <td>0.379189</td>\n",
              "    </tr>\n",
              "    <tr>\n",
              "      <th>2</th>\n",
              "      <td>-0.349486</td>\n",
              "      <td>-0.383787</td>\n",
              "      <td>-0.626560</td>\n",
              "      <td>0.101959</td>\n",
              "    </tr>\n",
              "    <tr>\n",
              "      <th>3</th>\n",
              "      <td>-0.831052</td>\n",
              "      <td>0.796678</td>\n",
              "      <td>1.232058</td>\n",
              "      <td>0.276445</td>\n",
              "    </tr>\n",
              "    <tr>\n",
              "      <th>4</th>\n",
              "      <td>-0.801188</td>\n",
              "      <td>1.548857</td>\n",
              "      <td>-2.554540</td>\n",
              "      <td>-0.396749</td>\n",
              "    </tr>\n",
              "    <tr>\n",
              "      <th>5</th>\n",
              "      <td>0.355160</td>\n",
              "      <td>0.818582</td>\n",
              "      <td>-2.661344</td>\n",
              "      <td>0.807615</td>\n",
              "    </tr>\n",
              "    <tr>\n",
              "      <th>6</th>\n",
              "      <td>1.053566</td>\n",
              "      <td>-0.383942</td>\n",
              "      <td>-0.730569</td>\n",
              "      <td>-0.479001</td>\n",
              "    </tr>\n",
              "    <tr>\n",
              "      <th>7</th>\n",
              "      <td>1.859219</td>\n",
              "      <td>-0.026859</td>\n",
              "      <td>0.717551</td>\n",
              "      <td>0.110764</td>\n",
              "    </tr>\n",
              "    <tr>\n",
              "      <th>8</th>\n",
              "      <td>-0.054392</td>\n",
              "      <td>0.294508</td>\n",
              "      <td>-0.888724</td>\n",
              "      <td>-1.625846</td>\n",
              "    </tr>\n",
              "    <tr>\n",
              "      <th>9</th>\n",
              "      <td>0.286163</td>\n",
              "      <td>-0.167164</td>\n",
              "      <td>-1.200897</td>\n",
              "      <td>0.012659</td>\n",
              "    </tr>\n",
              "  </tbody>\n",
              "</table>\n",
              "</div>"
            ],
            "text/plain": [
              "          a         b         c         d\n",
              "0 -0.293457  1.800594 -0.927340 -0.585166\n",
              "1  0.132905  0.392413  0.698662  0.379189\n",
              "2 -0.349486 -0.383787 -0.626560  0.101959\n",
              "3 -0.831052  0.796678  1.232058  0.276445\n",
              "4 -0.801188  1.548857 -2.554540 -0.396749\n",
              "5  0.355160  0.818582 -2.661344  0.807615\n",
              "6  1.053566 -0.383942 -0.730569 -0.479001\n",
              "7  1.859219 -0.026859  0.717551  0.110764\n",
              "8 -0.054392  0.294508 -0.888724 -1.625846\n",
              "9  0.286163 -0.167164 -1.200897  0.012659"
            ]
          },
          "metadata": {
            "tags": []
          },
          "execution_count": 3
        }
      ]
    },
    {
      "cell_type": "code",
      "metadata": {
        "colab": {
          "base_uri": "https://localhost:8080/",
          "height": 316
        },
        "id": "44DrlFl3aTon",
        "outputId": "5f0aef0d-f796-4ea2-add8-3592307001f1"
      },
      "source": [
        "df.plot(kind=\"bar\", figsize=(5,5))\n",
        "\n",
        "plt.title =(\"Bar Graph\",\"R--*\")"
      ],
      "execution_count": 4,
      "outputs": [
        {
          "output_type": "display_data",
          "data": {
            "image/png": "[encoded data removed]",
            "text/plain": [
              "<Figure size 360x360 with 1 Axes>"
            ]
          },
          "metadata": {
            "tags": [],
            "needs_background": "light"
          }
        }
      ]
    }
  ]
}